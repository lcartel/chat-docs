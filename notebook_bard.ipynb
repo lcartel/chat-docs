{
 "cells": [
  {
   "cell_type": "code",
   "execution_count": 2,
   "metadata": {},
   "outputs": [
    {
     "ename": "Exception",
     "evalue": "SNlM0e value not found. Double-check __Secure-1PSID value or pass it as token='xxxxx'.",
     "output_type": "error",
     "traceback": [
      "\u001b[0;31m---------------------------------------------------------------------------\u001b[0m",
      "\u001b[0;31mException\u001b[0m                                 Traceback (most recent call last)",
      "Cell \u001b[0;32mIn[2], line 19\u001b[0m\n\u001b[1;32m     15\u001b[0m session\u001b[39m.\u001b[39mheaders \u001b[39m=\u001b[39m SESSION_HEADERS\n\u001b[1;32m     17\u001b[0m \u001b[39m# bard_token = os.getenv('BARD_API_Secure-1PSID')\u001b[39;00m\n\u001b[0;32m---> 19\u001b[0m bard \u001b[39m=\u001b[39m Bard(token\u001b[39m=\u001b[39;49mtoken, session\u001b[39m=\u001b[39;49msession)\n",
      "File \u001b[0;32m~/miniconda3/envs/chat_docs_env/lib/python3.11/site-packages/bardapi/core.py:55\u001b[0m, in \u001b[0;36mBard.__init__\u001b[0;34m(self, token, timeout, proxies, session, conversation_id, google_translator_api_key, language, run_code, token_from_browser)\u001b[0m\n\u001b[1;32m     53\u001b[0m \u001b[39mself\u001b[39m\u001b[39m.\u001b[39mchoice_id \u001b[39m=\u001b[39m \u001b[39m\"\u001b[39m\u001b[39m\"\u001b[39m\n\u001b[1;32m     54\u001b[0m \u001b[39mself\u001b[39m\u001b[39m.\u001b[39msession \u001b[39m=\u001b[39m \u001b[39mself\u001b[39m\u001b[39m.\u001b[39m_get_session(session)\n\u001b[0;32m---> 55\u001b[0m \u001b[39mself\u001b[39m\u001b[39m.\u001b[39mSNlM0e \u001b[39m=\u001b[39m \u001b[39mself\u001b[39;49m\u001b[39m.\u001b[39;49m_get_snim0e()\n\u001b[1;32m     56\u001b[0m \u001b[39mself\u001b[39m\u001b[39m.\u001b[39mlanguage \u001b[39m=\u001b[39m language \u001b[39mor\u001b[39;00m os\u001b[39m.\u001b[39mgetenv(\u001b[39m\"\u001b[39m\u001b[39m_BARD_API_LANG\u001b[39m\u001b[39m\"\u001b[39m)\n\u001b[1;32m     57\u001b[0m \u001b[39mself\u001b[39m\u001b[39m.\u001b[39mrun_code \u001b[39m=\u001b[39m run_code\n",
      "File \u001b[0;32m~/miniconda3/envs/chat_docs_env/lib/python3.11/site-packages/bardapi/core.py:128\u001b[0m, in \u001b[0;36mBard._get_snim0e\u001b[0;34m(self)\u001b[0m\n\u001b[1;32m    126\u001b[0m snim0e \u001b[39m=\u001b[39m re\u001b[39m.\u001b[39msearch(\u001b[39mr\u001b[39m\u001b[39m\"\u001b[39m\u001b[39mSNlM0e\u001b[39m\u001b[39m\\\"\u001b[39;00m\u001b[39m:\u001b[39m\u001b[39m\\\"\u001b[39;00m\u001b[39m(.*?)\u001b[39m\u001b[39m\\\"\u001b[39;00m\u001b[39m\"\u001b[39m, resp\u001b[39m.\u001b[39mtext)\n\u001b[1;32m    127\u001b[0m \u001b[39mif\u001b[39;00m \u001b[39mnot\u001b[39;00m snim0e:\n\u001b[0;32m--> 128\u001b[0m     \u001b[39mraise\u001b[39;00m \u001b[39mException\u001b[39;00m(\n\u001b[1;32m    129\u001b[0m         \u001b[39m\"\u001b[39m\u001b[39mSNlM0e value not found. Double-check __Secure-1PSID value or pass it as token=\u001b[39m\u001b[39m'\u001b[39m\u001b[39mxxxxx\u001b[39m\u001b[39m'\u001b[39m\u001b[39m.\u001b[39m\u001b[39m\"\u001b[39m\n\u001b[1;32m    130\u001b[0m     )\n\u001b[1;32m    131\u001b[0m \u001b[39mreturn\u001b[39;00m snim0e\u001b[39m.\u001b[39mgroup(\u001b[39m1\u001b[39m)\n",
      "\u001b[0;31mException\u001b[0m: SNlM0e value not found. Double-check __Secure-1PSID value or pass it as token='xxxxx'."
     ]
    }
   ],
   "source": [
    "import os\n",
    "import requests\n",
    "from bardapi import Bard, SESSION_HEADERS\n",
    "import json \n",
    "\n",
    "from dotenv import load_dotenv, find_dotenv\n",
    "_ = load_dotenv(find_dotenv())\n",
    "\n",
    "session = requests.Session()\n",
    "token = os.getenv('BARD_API_Secure-1PSID')\n",
    "session.cookies.set(\"__Secure-1PSID\", os.getenv('BARD_API_Secure-1PSID'))\n",
    "session.cookies.set( \"__Secure-1PSIDCC\", os.getenv('BARD_API_Secure-1PSIDCC'))\n",
    "session.cookies.set(\"__Secure-1PSIDTS\", os.getenv('BARD_API_Secure-1PSIDTS'))\n",
    "\n",
    "session.headers = SESSION_HEADERS\n",
    "\n",
    "# bard_token = os.getenv('BARD_API_Secure-1PSID')\n",
    "\n",
    "bard = Bard(token=token, session=session)"
   ]
  },
  {
   "cell_type": "code",
   "execution_count": 6,
   "metadata": {},
   "outputs": [],
   "source": [
    "pdf_filename = \"OLEDG2_US_MFL71856232_03_S_221027+RS232 Guide ENG\" \n",
    "\n",
    "def get_model_brand(pdf_filename):\n",
    "    bard_instructions = f\"\"\"\n",
    "    You will act as a brand and model detector. If the brand is not included in the product name use your knowledge.\n",
    "    I will pass you an name of a file and you will do your best to detect the brand and the model of the product.\n",
    "    Only include one value for brand or product.\n",
    "    I want your answer to be formated as a json like this:\n",
    "    Response:\n",
    "    {{\n",
    "        brand = \"\",\n",
    "        model = \"\"\n",
    "    }}\n",
    "    Don't include any explanation or other text than your json code.\n",
    "    filename: ```{pdf_filename}```\n",
    "    \"\"\"\n",
    "    return bard.get_answer(bard_instructions)['content']    "
   ]
  },
  {
   "cell_type": "code",
   "execution_count": 12,
   "metadata": {},
   "outputs": [],
   "source": [
    "answer = bard.get_answer(f\"\"\"You will act as a brand and model detector. If the brand is not included in the product name use your knowledge.\n",
    "    I will pass you an name of a file and you will do your best to detect the brand and the model of the product.\n",
    "    Only include one value for brand or product.\n",
    "    I want your answer to be formated as a json like this:\n",
    "    Response:\n",
    "    {{\n",
    "        brand = \"\",\n",
    "        model = \"\"\n",
    "    }}\n",
    "    Only include the json file on your response. No explanation.\n",
    "    filename: OLEDG2_US_MFL71856232_03_S_221027+RS232 Guide ENG\"\"\")['content']    "
   ]
  },
  {
   "cell_type": "code",
   "execution_count": 18,
   "metadata": {},
   "outputs": [
    {
     "name": "stdout",
     "output_type": "stream",
     "text": [
      "{\n",
      "  \"brand\": \"LG\",\n",
      "  \"model\": \"OLEDG2\"\n",
      "}\n",
      "\n"
     ]
    }
   ],
   "source": [
    "print()"
   ]
  },
  {
   "cell_type": "code",
   "execution_count": 21,
   "metadata": {},
   "outputs": [],
   "source": [
    "api_answer_dic = json.loads(answer.split(\"```\")[1].replace(\"json\\n\",\"\"))"
   ]
  },
  {
   "cell_type": "code",
   "execution_count": 24,
   "metadata": {},
   "outputs": [
    {
     "data": {
      "text/plain": [
       "'OLEDG2'"
      ]
     },
     "execution_count": 24,
     "metadata": {},
     "output_type": "execute_result"
    }
   ],
   "source": [
    "api_answer_dic[\"brand\"]\n",
    "api_answer_dic[\"model\"]"
   ]
  },
  {
   "cell_type": "code",
   "execution_count": null,
   "metadata": {},
   "outputs": [],
   "source": []
  }
 ],
 "metadata": {
  "kernelspec": {
   "display_name": "chat_docs_env",
   "language": "python",
   "name": "python3"
  },
  "language_info": {
   "codemirror_mode": {
    "name": "ipython",
    "version": 3
   },
   "file_extension": ".py",
   "mimetype": "text/x-python",
   "name": "python",
   "nbconvert_exporter": "python",
   "pygments_lexer": "ipython3",
   "version": "3.11.4"
  },
  "orig_nbformat": 4
 },
 "nbformat": 4,
 "nbformat_minor": 2
}
