{
 "cells": [
  {
   "cell_type": "code",
   "execution_count": 2,
   "metadata": {},
   "outputs": [],
   "source": [
    "import openai\n",
    "import os\n",
    "import json\n",
    "import gradio as gr\n",
    "import langchain\n",
    "import sys\n",
    "\n",
    "from langchain.document_loaders import PyPDFLoader\n",
    "\n",
    "from dotenv import load_dotenv, find_dotenv\n",
    "_ = load_dotenv(find_dotenv())\n",
    "\n",
    "openai.api_key  = os.getenv('OPENAI_API_KEY')"
   ]
  },
  {
   "cell_type": "code",
   "execution_count": 3,
   "metadata": {},
   "outputs": [],
   "source": [
    "def get_completion(prompt, model=\"gpt-3.5-turbo\"):\n",
    "    messages = [{\"role\": \"user\", \"content\": prompt}]\n",
    "    response = openai.ChatCompletion.create(\n",
    "        model=model,\n",
    "        messages=messages,\n",
    "        temperature=0, # this is the degree of randomness of the model's output\n",
    "    )\n",
    "    return response.choices[0].message[\"content\"]"
   ]
  },
  {
   "cell_type": "markdown",
   "metadata": {},
   "source": [
    "Test prompt"
   ]
  },
  {
   "cell_type": "markdown",
   "metadata": {},
   "source": [
    "**Option 1 : the user select a brand**"
   ]
  },
  {
   "cell_type": "code",
   "execution_count": null,
   "metadata": {},
   "outputs": [],
   "source": [
    "#The use is asked to select a brand\n",
    "selected_brand = \"Samsung\"\n",
    "selected_model = \"S23\"\n",
    "doc_base_path = \"./examples/companies\"\n",
    "\n",
    "selected_doc_path = []\n",
    "\n",
    "#We try to get the path \n",
    "brand_match = False\n",
    "model_match = False\n",
    "\n",
    "try:\n",
    "    brand_match = os.path.exists(doc_base_path.lower())\n",
    "except:\n",
    "    print(\"No brand match\")\n",
    "\n",
    "if (brand_match):\n",
    "    for current_file_path in os.listdir(os.path.join(doc_base_path, selected_brand.lower())):\n",
    "        if (selected_model in current_file_path) & (\".pdf\" == str(os.path.splitext(current_file_path)[1])):\n",
    "            model_match = True\n",
    "            selected_doc_path.append(os.path.join(doc_base_path, selected_brand, current_file_path))\n",
    "\n",
    "selected_doc_path"
   ]
  },
  {
   "cell_type": "code",
   "execution_count": null,
   "metadata": {},
   "outputs": [],
   "source": [
    "def find_model_path(selected_brand, model, debug=False):\n",
    "    try:\n",
    "        #TO DO : Include examples with model number in 1 part and 3 part. E.g : C3, PSP\n",
    "\n",
    "        selected_doc_path = []\n",
    "        doc_base_path = \"./examples/companies\"\n",
    "\n",
    "        ## Checking outputs\n",
    "        if not selected_brand in os.listdir(doc_base_path): return []\n",
    "        model_split = model.split(\"_\")\n",
    "        if ((len(model_split) != 2) | (model_split[0].strip() == \"\") | (model_split[1].strip() == \"\")): return []\n",
    "\n",
    "        for current_file_path in os.listdir(os.path.join(doc_base_path, selected_brand.lower())):\n",
    "            if (\n",
    "                (model_split[0] in current_file_path.lower()) & \n",
    "                (model_split[1] in current_file_path.lower()) & \n",
    "                (\".pdf\" == str(os.path.splitext(current_file_path)[1]).lower())\n",
    "            ):\n",
    "                if (current_file_path.lower().index(model_split[0]) < current_file_path.lower().index(model_split[1])):\n",
    "                    selected_doc_path.append(os.path.join(doc_base_path, selected_brand, current_file_path))\n",
    "        return selected_doc_path\n",
    "\n",
    "    except Exception as error:\n",
    "        if debug: \n",
    "            print(\"An exception occurred:\", type(error).__name__)\n",
    "        return []"
   ]
  },
  {
   "cell_type": "code",
   "execution_count": null,
   "metadata": {},
   "outputs": [],
   "source": [
    "find_model_path(\"lg\", \"b2_c2\",True)"
   ]
  },
  {
   "cell_type": "markdown",
   "metadata": {},
   "source": [
    "**Option 2 : no brand selected : we will determine it in the chat**"
   ]
  },
  {
   "cell_type": "code",
   "execution_count": 4,
   "metadata": {},
   "outputs": [
    {
     "name": "stdout",
     "output_type": "stream",
     "text": [
      "{\n",
      "    \"out_of_scope\": false,\n",
      "    \"brand_exists\": true,\n",
      "    \"model_exists\": true,\n",
      "    \"selected_brand\": \"samsung\",\n",
      "    \"selected_model\": \"galaxy_s23\",\n",
      "    \"request_language\": \"en\",\n",
      "    \"type_of_object\": \"smartphone\"\n",
      "}\n"
     ]
    }
   ],
   "source": [
    "user_prompt =\"How to improve the battery life of my s23\"\n",
    "\n",
    "user_prompt_cropped=user_prompt[:300]\n",
    "\n",
    "expected_examples = f\"\"\"\n",
    "User: I want the documentation of the marcel galaxy S21\n",
    "Response:\n",
    "{{\n",
    "    out_of_scope = False,\n",
    "    brand_exists = True,\n",
    "    model_exists = True,\n",
    "    selected_brand = samsung,\n",
    "    selected_model = galaxy_s21,\n",
    "    request_language = en,\n",
    "    type_of_object = smartphone\n",
    "}}\n",
    "\n",
    "User: What is the waranty of the Apple Ibode 10\n",
    "Response:\n",
    "{{\n",
    "    out_of_scope = False,\n",
    "    brand_exists = True,\n",
    "    model_exists = True,\n",
    "    selected_brand = apple,\n",
    "    selected_model = iphone_10,\n",
    "    request_language = en,\n",
    "    type_of_object = smartphone\n",
    "}}\n",
    "\n",
    "User: What is the waranty of the Apple Ibode X\n",
    "Response:\n",
    "{{\n",
    "    out_of_scope = False,\n",
    "    brand_exists = True,\n",
    "    model_exists = True,\n",
    "    selected_brand = apple,\n",
    "    selected_model = iphone_10,\n",
    "    request_language = en,\n",
    "    type_of_object = smartphone\n",
    "}}\n",
    "\n",
    "User: Comment appairer mon sony xm5\n",
    "Response:\n",
    "{{\n",
    "    out_of_scope = False,\n",
    "    brand_exists = True,\n",
    "    model_exists = True,\n",
    "    selected_brand = sony,\n",
    "    selected_model = wh-1000xm5,\n",
    "    request_language = fr,\n",
    "    type_of_object = car\n",
    "}}\n",
    "\n",
    "User: Comment reparer le feu arrière de ma citroen C40\n",
    "Response:\n",
    "{{\n",
    "    out_of_scope = False,\n",
    "    brand_exists = True,\n",
    "    model_exists = True,\n",
    "    selected_brand = citroen,\n",
    "    selected_model = c4,\n",
    "    request_language = fr,\n",
    "    type_of_object = car\n",
    "}}\n",
    "\n",
    "User: Qui est le 5eme president des etats unis ?\n",
    "Response:\n",
    "{{\n",
    "    out_of_scope = True,\n",
    "    brand_exists = False,\n",
    "    model_exists = False,\n",
    "    selected_brand = \"\",\n",
    "    selected_model = \"\",\n",
    "    request_language = \"\",\n",
    "    type_of_object = \"\"\n",
    "}}\n",
    "\n",
    "User: How much is 8 times 19 ?\n",
    "Response:\n",
    "{{\n",
    "    out_of_scope = True,\n",
    "    brand_exists = False,\n",
    "    model_exists = False,\n",
    "    selected_brand = \"\",\n",
    "    selected_model = \"\",\n",
    "    request_language = \"\",\n",
    "    type_of_object = \"\",\n",
    "}}\n",
    "\n",
    "User: Qui a créer la renault 4CV ?\n",
    "Response:\n",
    "{{\n",
    "    out_of_scope = True,\n",
    "    brand_exists = False,\n",
    "    model_exists = False,\n",
    "    selected_brand = \"\",\n",
    "    selected_model = \"\",\n",
    "    request_language = \"\",\n",
    "    type_of_object = \"\"\n",
    "}}\n",
    "\n",
    "\n",
    "\"\"\"\n",
    "chat_instruction_if_no_brand_no_model = f\"\"\"\n",
    "An user will ask you for a specific question about a product brand and a model. \\\n",
    "Your task is to determine the brand and the model that the user is refering too. \\\n",
    "If you don't know the brand the user is refering too set the value of \"brand_exists\" key to False (using the same case), set the value of \"model_exists\" to False and all the other keys with a blank string and return the output without any more calculations. \\\n",
    "If you don't see any brand in the prompt try to find it \\\n",
    "It the model doesn't exists set the \"model_exists\" key to False (using the same case) but set the right value to brand. \\\n",
    "You will also identify the language of the request as the key \"request_language\". \\\n",
    "Also determine the type of object and put your result in the key \"type_of_object\". For example it could be smartphone, camera, car, etc.. \\ \n",
    "If the value doesn't concern any information about a product set the value of out_of_scope to True.\n",
    "\n",
    "I want your output formated as a json string with the following format: \\\n",
    "{{\n",
    "    out_of_scope = [Boolean],\n",
    "    brand_exists = [Boolean], \n",
    "    model_exists = [Boolean], \n",
    "    selected_brand = [string],\n",
    "    selected_model = [string],\n",
    "    request_language = [string],\n",
    "    type_of_object = [string]\n",
    "}}\n",
    "\n",
    "The boolean values (out_of_scope, brand_exists and model_exists value) will be in formated as camelcase, to respect python convention to boolean values.\n",
    "All other values should be in lowercase.\n",
    "\n",
    "Here are some example of answers:\n",
    "```{expected_examples}```\n",
    "\n",
    "The user demand is delimited into tripple backtick\n",
    "```{user_prompt_cropped}```\n",
    "\"\"\"\n",
    "\n",
    "response = get_completion(chat_instruction_if_no_brand_no_model)\n",
    "print(response)"
   ]
  },
  {
   "cell_type": "code",
   "execution_count": 5,
   "metadata": {},
   "outputs": [
    {
     "name": "stdout",
     "output_type": "stream",
     "text": [
      "{'out_of_scope': False, 'brand_exists': True, 'model_exists': True, 'selected_brand': 'samsung', 'selected_model': 'galaxy_s23', 'request_language': 'en', 'type_of_object': 'smartphone'}\n"
     ]
    }
   ],
   "source": [
    "# Convert JSON String to Python\n",
    "api_answer_dic = json.loads(response)\n",
    "print(api_answer_dic)\n",
    "\n",
    "while (api_answer_dic[\"out_of_scope\"]):\n",
    "    print(\"Please retry with a request about a specific product and documentation\")\n",
    "\n"
   ]
  },
  {
   "cell_type": "code",
   "execution_count": 6,
   "metadata": {},
   "outputs": [
    {
     "name": "stdout",
     "output_type": "stream",
     "text": [
      "{'out_of_scope': True, 'brand_exists': False, 'model_exists': False, 'selected_brand': '', 'selected_model': '', 'request_language': '', 'type_of_object': ''}\n"
     ]
    }
   ],
   "source": [
    "# Import JSON module\n",
    "\n",
    "# Define JSON string\n",
    "jsonString = '{\\n    \"out_of_scope\": true,\\n    \"brand_exists\": false,\\n    \"model_exists\": false,\\n    \"selected_brand\": \"\",\\n    \"selected_model\": \"\",\\n    \"request_language\": \"\",\\n    \"type_of_object\": \"\"\\n}'\n",
    "\n",
    "# Convert JSON String to Python\n",
    "student_details = json.loads(jsonString)\n",
    "\n",
    "# Print Dictionary\n",
    "print(student_details)\n"
   ]
  },
  {
   "cell_type": "markdown",
   "metadata": {},
   "source": [
    "**Print the UI**"
   ]
  },
  {
   "cell_type": "code",
   "execution_count": null,
   "metadata": {},
   "outputs": [],
   "source": [
    "import random\n",
    "\n",
    "my_theme = gr.Theme.from_hub(\"sudeepshouche/minimalist\")\n",
    "\n",
    "def random_response(message, history):\n",
    "    return random.choice([\"Yes\", \"No\"])\n",
    "\n",
    "chat_iface = gr.ChatInterface(\n",
    "    random_response, \n",
    "    title=\"Chat with your product documentation 💬\",\n",
    "    textbox=gr.Textbox(placeholder=\"Enter a prompt here / Poser votre question ici\", container=False, scale=7, limit=20),\n",
    "    retry_btn=None,\n",
    "    undo_btn=None,\n",
    "    examples=[\"How long is the warranty for my galaxy S23 ?\", \"How to reset my Garmin Forerunner 265 watch ?\"],\n",
    "    cache_examples=True,\n",
    "    theme=my_theme,\n",
    ")\n",
    "\n",
    "chat_iface.launch()"
   ]
  },
  {
   "cell_type": "markdown",
   "metadata": {},
   "source": [
    "# Load a specific PDF"
   ]
  },
  {
   "cell_type": "code",
   "execution_count": null,
   "metadata": {},
   "outputs": [],
   "source": [
    "loader = PyPDFLoader(\"./examples/companies/garmin/fenix_7_Series_OM_EN-US.pdf\")\n",
    "pages = loader.load()\n",
    "len(pages)\n",
    "\n",
    "\n",
    "page_table_of_content = pages[2]\n",
    "\n",
    "print(page_table_of_content.page_content[0:5000])\n",
    "\n",
    "page_table_of_content.metadata"
   ]
  },
  {
   "cell_type": "markdown",
   "metadata": {},
   "source": [
    "**1. Split using character**"
   ]
  },
  {
   "cell_type": "code",
   "execution_count": null,
   "metadata": {},
   "outputs": [],
   "source": [
    "from langchain.text_splitter import CharacterTextSplitter\n",
    "text_splitter = CharacterTextSplitter(\n",
    "    separator=\"\\n\",\n",
    "    chunk_size=1000,\n",
    "    chunk_overlap=150,\n",
    "    length_function=len\n",
    ")"
   ]
  },
  {
   "cell_type": "code",
   "execution_count": null,
   "metadata": {},
   "outputs": [],
   "source": [
    "docs = text_splitter.split_documents(pages)"
   ]
  },
  {
   "cell_type": "code",
   "execution_count": null,
   "metadata": {},
   "outputs": [],
   "source": [
    "len(docs)"
   ]
  },
  {
   "cell_type": "code",
   "execution_count": null,
   "metadata": {},
   "outputs": [],
   "source": [
    "len(pages)"
   ]
  },
  {
   "cell_type": "markdown",
   "metadata": {},
   "source": [
    "**2. Split using PDF**"
   ]
  },
  {
   "cell_type": "code",
   "execution_count": null,
   "metadata": {},
   "outputs": [],
   "source": [
    "from langchain.text_splitter import TokenTextSplitter\n",
    "text_splitter = TokenTextSplitter(chunk_size=10, chunk_overlap=0)"
   ]
  },
  {
   "cell_type": "code",
   "execution_count": null,
   "metadata": {},
   "outputs": [],
   "source": [
    "docs = text_splitter.split_documents(pages)"
   ]
  },
  {
   "cell_type": "code",
   "execution_count": null,
   "metadata": {},
   "outputs": [],
   "source": [
    "len(docs)"
   ]
  },
  {
   "cell_type": "code",
   "execution_count": null,
   "metadata": {},
   "outputs": [],
   "source": []
  }
 ],
 "metadata": {
  "kernelspec": {
   "display_name": "base",
   "language": "python",
   "name": "python3"
  },
  "language_info": {
   "codemirror_mode": {
    "name": "ipython",
    "version": 3
   },
   "file_extension": ".py",
   "mimetype": "text/x-python",
   "name": "python",
   "nbconvert_exporter": "python",
   "pygments_lexer": "ipython3",
   "version": "3.11.4"
  },
  "orig_nbformat": 4
 },
 "nbformat": 4,
 "nbformat_minor": 2
}
